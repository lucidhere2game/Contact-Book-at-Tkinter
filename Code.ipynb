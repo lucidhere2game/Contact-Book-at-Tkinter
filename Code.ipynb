{
 "cells": [
  {
   "cell_type": "code",
   "execution_count": 60,
   "id": "physical-clock",
   "metadata": {},
   "outputs": [],
   "source": [
    "from tkinter import *\n",
    "gui= Tk()\n",
    "gui.title(\"Contact\")\n",
    "gui.configure(bg= \"#5e5b85\")\n",
    "gui.geometry(\"500x310\")\n",
    "e1= Entry(gui,font= (\"Times New Roman\",15),width= 20)\n",
    "e1.place(x= 270,y= 10)\n",
    "name= Label(gui,text= \"Name\",fg= \"white\",font= (\"century gothic\",20,\"bold\"),bg= \"#5e5b85\")\n",
    "name.place(x= 10,y= 5)\n",
    "e2= Entry(gui,font= (\"Times New Roman\",15),width= 20)\n",
    "e2.place(x= 270,y= 50)\n",
    "adress= Label(gui,text= \"Adress\",fg= \"white\",font= (\"century gothic\",20,\"bold\"),bg= \"#5e5b85\")\n",
    "adress.place(x= 10,y= 45)\n",
    "e3= Entry(gui,font= (\"Times New Roman\",15),width= 20)\n",
    "e3.place(x= 270,y= 90)\n",
    "email= Label(gui,text= \"Email\",fg= \"white\",font= (\"century gothic\",20,\"bold\"),bg= \"#5e5b85\")\n",
    "email.place(x= 10,y= 85)\n",
    "e4= Entry(gui,font= (\"Times New Roman\",15),width= 20)\n",
    "e4.place(x= 270,y= 130)\n",
    "phone= Label(gui,text= \"Phone\",fg= \"white\",font= (\"century gothic\",20,\"bold\"),bg= \"#5e5b85\")\n",
    "phone.place(x= 10,y= 125)\n",
    "e5= Entry(gui,font= (\"Times New Roman\",15),width= 20)\n",
    "e5.place(x= 270,y= 170)\n",
    "sir_name= Label(gui,text= \"Father's Name\",fg= \"white\",font= (\"century gothic\",20,\"bold\"),bg= \"#5e5b85\")\n",
    "sir_name.place(x= 10,y= 165)\n",
    "e6= Entry(gui,font= (\"Times New Roman\",15),width= 20)\n",
    "e6.place(x= 270,y= 210)\n",
    "dad_phone= Label(gui,text= \"Father's Phone\",fg= \"white\",font= (\"century gothic\",20,\"bold\"),bg= \"#5e5b85\")\n",
    "dad_phone.place(x= 10,y= 205)\n",
    "add= Button(gui,text= \"                        Add To Contacts                       \",font= (\"century gothic\",15),bg= \"powder blue\")\n",
    "add.place(x= 10,y= 255)\n",
    "gui.mainloop()"
   ]
  }
 ],
 "metadata": {
  "kernelspec": {
   "display_name": "Python 3",
   "language": "python",
   "name": "python3"
  },
  "language_info": {
   "codemirror_mode": {
    "name": "ipython",
    "version": 3
   },
   "file_extension": ".py",
   "mimetype": "text/x-python",
   "name": "python",
   "nbconvert_exporter": "python",
   "pygments_lexer": "ipython3",
   "version": "3.8.7"
  }
 },
 "nbformat": 4,
 "nbformat_minor": 5
}
